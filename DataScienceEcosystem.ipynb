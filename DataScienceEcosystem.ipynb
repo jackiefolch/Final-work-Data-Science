{
 "cells": [
  {
   "cell_type": "markdown",
   "id": "5732c89a-5dd5-406f-b851-2eb26d417855",
   "metadata": {},
   "source": [
    "# Data Science Tools and Ecosystem"
   ]
  },
  {
   "cell_type": "markdown",
   "id": "8148e067-8332-4245-bb29-c0ea6131a6ad",
   "metadata": {},
   "source": [
    "In this notebook, Data Science Tools and Ecosystem are summarized. "
   ]
  },
  {
   "cell_type": "markdown",
   "id": "72a585b8-5a29-4d8a-952e-72379353dd07",
   "metadata": {},
   "source": [
    "What is Data Science?\n",
    "The concept of data science unifies all activities related to the processing of data with the aim of obtaining knowledge and valuable information or, in business, insights. Data science includes data analysis, statistics and mathematics, data visualization, data integration, etc. It is, therefore, an interdisciplinary science that encompasses any technique applied to the analysis and understanding of real phenomena from structured or unstructured data. Data science is also related to other processes such as data mining, machine learning, data management, data governance and Big Data. \n"
   ]
  },
  {
   "cell_type": "markdown",
   "id": "acdd4a04-f24a-412e-91c8-37fa8f791629",
   "metadata": {},
   "source": [
    "The most widely used open source data management tools are relational databases such as: \n",
    "\n",
    "1. MySQL\n",
    "2. PostgreSQL\n",
    "\n",
    "NoSQL databases such as: \n",
    "1. MongoDB\n",
    "2. Apache CouchDB\n",
    "3. Apache Cassandra\n",
    "\n",
    "And file-based tools such a:\n",
    "1. Hadoop File System or Cloud File Systmes like Ceph \n",
    "\n",
    "And finally, Elasticsearch is mainly used for storing text data and creating a search index for fast document retrieval. "
   ]
  },
  {
   "cell_type": "markdown",
   "id": "d2cb7f0b-bd2d-4f47-b450-26bdd6a76aa1",
   "metadata": {
    "jp-MarkdownHeadingCollapsed": true,
    "tags": []
   },
   "source": [
    "Some of the popular languages that Data Scientists use are:"
   ]
  },
  {
   "cell_type": "markdown",
   "id": "cae1a3fc-2a58-4b64-bd2f-c467f29fdbc0",
   "metadata": {},
   "source": [
    "1. Python\n",
    "2. R\n",
    "3. SQL"
   ]
  },
  {
   "cell_type": "markdown",
   "id": "b676d157-2426-40ea-85a0-52d711b22bb6",
   "metadata": {
    "tags": []
   },
   "source": [
    "Some of the commonly used libraries used by Data Scientists include: "
   ]
  },
  {
   "cell_type": "markdown",
   "id": "19b9b447-f808-4448-8c90-fe3611cdb536",
   "metadata": {},
   "source": [
    "1. Pandas\n",
    "2. NumPy\n",
    "3. Matplotlib\n",
    "4. PyTorch\n",
    "5. Keras\n",
    "6. TensorFlow"
   ]
  },
  {
   "cell_type": "markdown",
   "id": "46321147-9acd-4ae4-8eff-094d9a4b99c8",
   "metadata": {},
   "source": [
    "|Data Science Tools|\n",
    "|------------------|\n",
    "|Jupyter|\n",
    "|RStudio|\n",
    "|Spyder|\n"
   ]
  },
  {
   "cell_type": "markdown",
   "id": "50ee8e0d-684e-4573-96ff-fadac717e6ad",
   "metadata": {
    "tags": []
   },
   "source": [
    "### Below are a few examples of evaluating arithmetic expressions in Python"
   ]
  },
  {
   "cell_type": "markdown",
   "id": "e7ef05a9-d0fe-498f-864e-c5695c8d6c86",
   "metadata": {},
   "source": [
    "This is a simple arithmetic expression to multiply then add integers: "
   ]
  },
  {
   "cell_type": "code",
   "execution_count": 15,
   "id": "9a7dec76-e889-4018-ad0a-1b1ed54f54d3",
   "metadata": {},
   "outputs": [
    {
     "data": {
      "text/plain": [
       "17"
      ]
     },
     "execution_count": 15,
     "metadata": {},
     "output_type": "execute_result"
    }
   ],
   "source": [
    "(3*4)+5"
   ]
  },
  {
   "cell_type": "markdown",
   "id": "93a324ae-a207-4db3-9c3d-474eede0c729",
   "metadata": {},
   "source": [
    "This will convert 200 minutes to hours by diving by 60: "
   ]
  },
  {
   "cell_type": "code",
   "execution_count": 1,
   "id": "cd19cc69-904c-4b87-a15f-37009f8cd764",
   "metadata": {},
   "outputs": [
    {
     "data": {
      "text/plain": [
       "3.3333333333333335"
      ]
     },
     "execution_count": 1,
     "metadata": {},
     "output_type": "execute_result"
    }
   ],
   "source": [
    "200/60"
   ]
  },
  {
   "cell_type": "markdown",
   "id": "a3749a8c-c2ad-4606-9004-1c5e2ab88ff2",
   "metadata": {},
   "source": [
    "Objectives:"
   ]
  },
  {
   "cell_type": "markdown",
   "id": "799a7868-9234-4702-a6a9-7a7b87d822cc",
   "metadata": {},
   "source": [
    "* Data Science Tools \n",
    "* Popular languages that Data Scientist use\n",
    "* Commonly used Libraries"
   ]
  },
  {
   "cell_type": "markdown",
   "id": "3441859a-e3ce-4307-b4a1-3e5500019a48",
   "metadata": {},
   "source": [
    "## Author\n",
    "Jacqueline Folch "
   ]
  },
  {
   "cell_type": "code",
   "execution_count": null,
   "id": "7d6aa897-5791-40dd-aad1-7b8af22234c9",
   "metadata": {},
   "outputs": [],
   "source": []
  }
 ],
 "metadata": {
  "kernelspec": {
   "display_name": "Python",
   "language": "python",
   "name": "conda-env-python-py"
  },
  "language_info": {
   "codemirror_mode": {
    "name": "ipython",
    "version": 3
   },
   "file_extension": ".py",
   "mimetype": "text/x-python",
   "name": "python",
   "nbconvert_exporter": "python",
   "pygments_lexer": "ipython3",
   "version": "3.7.12"
  }
 },
 "nbformat": 4,
 "nbformat_minor": 5
}
